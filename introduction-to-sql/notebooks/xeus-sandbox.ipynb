{
 "cells": [
  {
   "cell_type": "code",
   "execution_count": 1,
   "id": "independent-growth",
   "metadata": {},
   "outputs": [],
   "source": [
    "%LOAD sqlite3 db=../data/survey.db "
   ]
  },
  {
   "cell_type": "code",
   "execution_count": null,
   "id": "sensitive-setup",
   "metadata": {},
   "outputs": [],
   "source": []
  }
 ],
 "metadata": {
  "kernelspec": {
   "display_name": "xsql",
   "language": "sqlite",
   "name": "xsql"
  },
  "language_info": {
   "codemirror_mode": "sql",
   "file_extension": "",
   "mimetype": "",
   "name": "mysql",
   "version": "0.0.8"
  }
 },
 "nbformat": 4,
 "nbformat_minor": 5
}
